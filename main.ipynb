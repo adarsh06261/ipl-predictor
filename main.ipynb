{
 "cells": [
  {
   "cell_type": "markdown",
   "id": "53d8f17b",
   "metadata": {},
   "source": [
    "Importing Libraries"
   ]
  },
  {
   "cell_type": "code",
   "execution_count": 1,
   "id": "7061a0e2",
   "metadata": {},
   "outputs": [],
   "source": [
    "import numpy as np \n",
    "import pandas as pd \n",
    "import seaborn as sns \n",
    "import matplotlib.pyplot as plt"
   ]
  },
  {
   "cell_type": "markdown",
   "id": "feeb7c5c",
   "metadata": {},
   "source": [
    "Loading Data"
   ]
  },
  {
   "cell_type": "code",
   "execution_count": 2,
   "id": "1e71a8ce",
   "metadata": {},
   "outputs": [],
   "source": [
    "df = pd.read_csv('ipl.csv')\n"
   ]
  },
  {
   "cell_type": "markdown",
   "id": "f0adf1e9",
   "metadata": {},
   "source": [
    "Data Exploration"
   ]
  },
  {
   "cell_type": "code",
   "execution_count": 3,
   "id": "eed4a3f5",
   "metadata": {},
   "outputs": [
    {
     "data": {
      "text/html": [
       "<div>\n",
       "<style scoped>\n",
       "    .dataframe tbody tr th:only-of-type {\n",
       "        vertical-align: middle;\n",
       "    }\n",
       "\n",
       "    .dataframe tbody tr th {\n",
       "        vertical-align: top;\n",
       "    }\n",
       "\n",
       "    .dataframe thead th {\n",
       "        text-align: right;\n",
       "    }\n",
       "</style>\n",
       "<table border=\"1\" class=\"dataframe\">\n",
       "  <thead>\n",
       "    <tr style=\"text-align: right;\">\n",
       "      <th></th>\n",
       "      <th>mid</th>\n",
       "      <th>date</th>\n",
       "      <th>venue</th>\n",
       "      <th>bat_team</th>\n",
       "      <th>bowl_team</th>\n",
       "      <th>batsman</th>\n",
       "      <th>bowler</th>\n",
       "      <th>runs</th>\n",
       "      <th>wickets</th>\n",
       "      <th>overs</th>\n",
       "      <th>runs_last_5</th>\n",
       "      <th>wickets_last_5</th>\n",
       "      <th>striker</th>\n",
       "      <th>non-striker</th>\n",
       "      <th>total</th>\n",
       "    </tr>\n",
       "  </thead>\n",
       "  <tbody>\n",
       "    <tr>\n",
       "      <th>0</th>\n",
       "      <td>1</td>\n",
       "      <td>2008-04-18</td>\n",
       "      <td>M Chinnaswamy Stadium</td>\n",
       "      <td>Kolkata Knight Riders</td>\n",
       "      <td>Royal Challengers Bangalore</td>\n",
       "      <td>SC Ganguly</td>\n",
       "      <td>P Kumar</td>\n",
       "      <td>1</td>\n",
       "      <td>0</td>\n",
       "      <td>0.1</td>\n",
       "      <td>1</td>\n",
       "      <td>0</td>\n",
       "      <td>0</td>\n",
       "      <td>0</td>\n",
       "      <td>222</td>\n",
       "    </tr>\n",
       "    <tr>\n",
       "      <th>1</th>\n",
       "      <td>1</td>\n",
       "      <td>2008-04-18</td>\n",
       "      <td>M Chinnaswamy Stadium</td>\n",
       "      <td>Kolkata Knight Riders</td>\n",
       "      <td>Royal Challengers Bangalore</td>\n",
       "      <td>BB McCullum</td>\n",
       "      <td>P Kumar</td>\n",
       "      <td>1</td>\n",
       "      <td>0</td>\n",
       "      <td>0.2</td>\n",
       "      <td>1</td>\n",
       "      <td>0</td>\n",
       "      <td>0</td>\n",
       "      <td>0</td>\n",
       "      <td>222</td>\n",
       "    </tr>\n",
       "    <tr>\n",
       "      <th>2</th>\n",
       "      <td>1</td>\n",
       "      <td>2008-04-18</td>\n",
       "      <td>M Chinnaswamy Stadium</td>\n",
       "      <td>Kolkata Knight Riders</td>\n",
       "      <td>Royal Challengers Bangalore</td>\n",
       "      <td>BB McCullum</td>\n",
       "      <td>P Kumar</td>\n",
       "      <td>2</td>\n",
       "      <td>0</td>\n",
       "      <td>0.2</td>\n",
       "      <td>2</td>\n",
       "      <td>0</td>\n",
       "      <td>0</td>\n",
       "      <td>0</td>\n",
       "      <td>222</td>\n",
       "    </tr>\n",
       "    <tr>\n",
       "      <th>3</th>\n",
       "      <td>1</td>\n",
       "      <td>2008-04-18</td>\n",
       "      <td>M Chinnaswamy Stadium</td>\n",
       "      <td>Kolkata Knight Riders</td>\n",
       "      <td>Royal Challengers Bangalore</td>\n",
       "      <td>BB McCullum</td>\n",
       "      <td>P Kumar</td>\n",
       "      <td>2</td>\n",
       "      <td>0</td>\n",
       "      <td>0.3</td>\n",
       "      <td>2</td>\n",
       "      <td>0</td>\n",
       "      <td>0</td>\n",
       "      <td>0</td>\n",
       "      <td>222</td>\n",
       "    </tr>\n",
       "    <tr>\n",
       "      <th>4</th>\n",
       "      <td>1</td>\n",
       "      <td>2008-04-18</td>\n",
       "      <td>M Chinnaswamy Stadium</td>\n",
       "      <td>Kolkata Knight Riders</td>\n",
       "      <td>Royal Challengers Bangalore</td>\n",
       "      <td>BB McCullum</td>\n",
       "      <td>P Kumar</td>\n",
       "      <td>2</td>\n",
       "      <td>0</td>\n",
       "      <td>0.4</td>\n",
       "      <td>2</td>\n",
       "      <td>0</td>\n",
       "      <td>0</td>\n",
       "      <td>0</td>\n",
       "      <td>222</td>\n",
       "    </tr>\n",
       "  </tbody>\n",
       "</table>\n",
       "</div>"
      ],
      "text/plain": [
       "   mid        date                  venue               bat_team  \\\n",
       "0    1  2008-04-18  M Chinnaswamy Stadium  Kolkata Knight Riders   \n",
       "1    1  2008-04-18  M Chinnaswamy Stadium  Kolkata Knight Riders   \n",
       "2    1  2008-04-18  M Chinnaswamy Stadium  Kolkata Knight Riders   \n",
       "3    1  2008-04-18  M Chinnaswamy Stadium  Kolkata Knight Riders   \n",
       "4    1  2008-04-18  M Chinnaswamy Stadium  Kolkata Knight Riders   \n",
       "\n",
       "                     bowl_team      batsman   bowler  runs  wickets  overs  \\\n",
       "0  Royal Challengers Bangalore   SC Ganguly  P Kumar     1        0    0.1   \n",
       "1  Royal Challengers Bangalore  BB McCullum  P Kumar     1        0    0.2   \n",
       "2  Royal Challengers Bangalore  BB McCullum  P Kumar     2        0    0.2   \n",
       "3  Royal Challengers Bangalore  BB McCullum  P Kumar     2        0    0.3   \n",
       "4  Royal Challengers Bangalore  BB McCullum  P Kumar     2        0    0.4   \n",
       "\n",
       "   runs_last_5  wickets_last_5  striker  non-striker  total  \n",
       "0            1               0        0            0    222  \n",
       "1            1               0        0            0    222  \n",
       "2            2               0        0            0    222  \n",
       "3            2               0        0            0    222  \n",
       "4            2               0        0            0    222  "
      ]
     },
     "execution_count": 3,
     "metadata": {},
     "output_type": "execute_result"
    }
   ],
   "source": [
    "df.head(5)"
   ]
  },
  {
   "cell_type": "code",
   "execution_count": 4,
   "id": "45f60666",
   "metadata": {},
   "outputs": [
    {
     "data": {
      "text/html": [
       "<div>\n",
       "<style scoped>\n",
       "    .dataframe tbody tr th:only-of-type {\n",
       "        vertical-align: middle;\n",
       "    }\n",
       "\n",
       "    .dataframe tbody tr th {\n",
       "        vertical-align: top;\n",
       "    }\n",
       "\n",
       "    .dataframe thead th {\n",
       "        text-align: right;\n",
       "    }\n",
       "</style>\n",
       "<table border=\"1\" class=\"dataframe\">\n",
       "  <thead>\n",
       "    <tr style=\"text-align: right;\">\n",
       "      <th></th>\n",
       "      <th>mid</th>\n",
       "      <th>date</th>\n",
       "      <th>venue</th>\n",
       "      <th>bat_team</th>\n",
       "      <th>bowl_team</th>\n",
       "      <th>batsman</th>\n",
       "      <th>bowler</th>\n",
       "      <th>runs</th>\n",
       "      <th>wickets</th>\n",
       "      <th>overs</th>\n",
       "      <th>runs_last_5</th>\n",
       "      <th>wickets_last_5</th>\n",
       "      <th>striker</th>\n",
       "      <th>non-striker</th>\n",
       "      <th>total</th>\n",
       "    </tr>\n",
       "  </thead>\n",
       "  <tbody>\n",
       "    <tr>\n",
       "      <th>76009</th>\n",
       "      <td>617</td>\n",
       "      <td>2017-05-21</td>\n",
       "      <td>Rajiv Gandhi International Stadium, Uppal</td>\n",
       "      <td>Mumbai Indians</td>\n",
       "      <td>Rising Pune Supergiant</td>\n",
       "      <td>KH Pandya</td>\n",
       "      <td>DT Christian</td>\n",
       "      <td>121</td>\n",
       "      <td>7</td>\n",
       "      <td>19.2</td>\n",
       "      <td>40</td>\n",
       "      <td>0</td>\n",
       "      <td>40</td>\n",
       "      <td>12</td>\n",
       "      <td>129</td>\n",
       "    </tr>\n",
       "    <tr>\n",
       "      <th>76010</th>\n",
       "      <td>617</td>\n",
       "      <td>2017-05-21</td>\n",
       "      <td>Rajiv Gandhi International Stadium, Uppal</td>\n",
       "      <td>Mumbai Indians</td>\n",
       "      <td>Rising Pune Supergiant</td>\n",
       "      <td>KH Pandya</td>\n",
       "      <td>DT Christian</td>\n",
       "      <td>127</td>\n",
       "      <td>7</td>\n",
       "      <td>19.3</td>\n",
       "      <td>46</td>\n",
       "      <td>0</td>\n",
       "      <td>46</td>\n",
       "      <td>12</td>\n",
       "      <td>129</td>\n",
       "    </tr>\n",
       "    <tr>\n",
       "      <th>76011</th>\n",
       "      <td>617</td>\n",
       "      <td>2017-05-21</td>\n",
       "      <td>Rajiv Gandhi International Stadium, Uppal</td>\n",
       "      <td>Mumbai Indians</td>\n",
       "      <td>Rising Pune Supergiant</td>\n",
       "      <td>KH Pandya</td>\n",
       "      <td>DT Christian</td>\n",
       "      <td>128</td>\n",
       "      <td>7</td>\n",
       "      <td>19.4</td>\n",
       "      <td>47</td>\n",
       "      <td>0</td>\n",
       "      <td>47</td>\n",
       "      <td>12</td>\n",
       "      <td>129</td>\n",
       "    </tr>\n",
       "    <tr>\n",
       "      <th>76012</th>\n",
       "      <td>617</td>\n",
       "      <td>2017-05-21</td>\n",
       "      <td>Rajiv Gandhi International Stadium, Uppal</td>\n",
       "      <td>Mumbai Indians</td>\n",
       "      <td>Rising Pune Supergiant</td>\n",
       "      <td>MG Johnson</td>\n",
       "      <td>DT Christian</td>\n",
       "      <td>129</td>\n",
       "      <td>7</td>\n",
       "      <td>19.5</td>\n",
       "      <td>48</td>\n",
       "      <td>0</td>\n",
       "      <td>47</td>\n",
       "      <td>13</td>\n",
       "      <td>129</td>\n",
       "    </tr>\n",
       "    <tr>\n",
       "      <th>76013</th>\n",
       "      <td>617</td>\n",
       "      <td>2017-05-21</td>\n",
       "      <td>Rajiv Gandhi International Stadium, Uppal</td>\n",
       "      <td>Mumbai Indians</td>\n",
       "      <td>Rising Pune Supergiant</td>\n",
       "      <td>KH Pandya</td>\n",
       "      <td>DT Christian</td>\n",
       "      <td>129</td>\n",
       "      <td>8</td>\n",
       "      <td>19.6</td>\n",
       "      <td>47</td>\n",
       "      <td>1</td>\n",
       "      <td>47</td>\n",
       "      <td>13</td>\n",
       "      <td>129</td>\n",
       "    </tr>\n",
       "  </tbody>\n",
       "</table>\n",
       "</div>"
      ],
      "text/plain": [
       "       mid        date                                      venue  \\\n",
       "76009  617  2017-05-21  Rajiv Gandhi International Stadium, Uppal   \n",
       "76010  617  2017-05-21  Rajiv Gandhi International Stadium, Uppal   \n",
       "76011  617  2017-05-21  Rajiv Gandhi International Stadium, Uppal   \n",
       "76012  617  2017-05-21  Rajiv Gandhi International Stadium, Uppal   \n",
       "76013  617  2017-05-21  Rajiv Gandhi International Stadium, Uppal   \n",
       "\n",
       "             bat_team               bowl_team     batsman        bowler  runs  \\\n",
       "76009  Mumbai Indians  Rising Pune Supergiant   KH Pandya  DT Christian   121   \n",
       "76010  Mumbai Indians  Rising Pune Supergiant   KH Pandya  DT Christian   127   \n",
       "76011  Mumbai Indians  Rising Pune Supergiant   KH Pandya  DT Christian   128   \n",
       "76012  Mumbai Indians  Rising Pune Supergiant  MG Johnson  DT Christian   129   \n",
       "76013  Mumbai Indians  Rising Pune Supergiant   KH Pandya  DT Christian   129   \n",
       "\n",
       "       wickets  overs  runs_last_5  wickets_last_5  striker  non-striker  \\\n",
       "76009        7   19.2           40               0       40           12   \n",
       "76010        7   19.3           46               0       46           12   \n",
       "76011        7   19.4           47               0       47           12   \n",
       "76012        7   19.5           48               0       47           13   \n",
       "76013        8   19.6           47               1       47           13   \n",
       "\n",
       "       total  \n",
       "76009    129  \n",
       "76010    129  \n",
       "76011    129  \n",
       "76012    129  \n",
       "76013    129  "
      ]
     },
     "execution_count": 4,
     "metadata": {},
     "output_type": "execute_result"
    }
   ],
   "source": [
    "df.tail(5)"
   ]
  },
  {
   "cell_type": "code",
   "execution_count": 5,
   "id": "4d6c5585",
   "metadata": {},
   "outputs": [
    {
     "data": {
      "text/plain": [
       "(76014, 15)"
      ]
     },
     "execution_count": 5,
     "metadata": {},
     "output_type": "execute_result"
    }
   ],
   "source": [
    "df.shape"
   ]
  },
  {
   "cell_type": "code",
   "execution_count": 6,
   "id": "885dc1c8",
   "metadata": {},
   "outputs": [
    {
     "data": {
      "text/plain": [
       "1140210"
      ]
     },
     "execution_count": 6,
     "metadata": {},
     "output_type": "execute_result"
    }
   ],
   "source": [
    "df.size"
   ]
  },
  {
   "cell_type": "code",
   "execution_count": 7,
   "id": "c1cc9090",
   "metadata": {},
   "outputs": [
    {
     "data": {
      "text/plain": [
       "Index(['mid', 'date', 'venue', 'bat_team', 'bowl_team', 'batsman', 'bowler',\n",
       "       'runs', 'wickets', 'overs', 'runs_last_5', 'wickets_last_5', 'striker',\n",
       "       'non-striker', 'total'],\n",
       "      dtype='object')"
      ]
     },
     "execution_count": 7,
     "metadata": {},
     "output_type": "execute_result"
    }
   ],
   "source": [
    "df.columns"
   ]
  },
  {
   "cell_type": "code",
   "execution_count": 8,
   "id": "8476f4b5",
   "metadata": {},
   "outputs": [
    {
     "data": {
      "text/html": [
       "<div>\n",
       "<style scoped>\n",
       "    .dataframe tbody tr th:only-of-type {\n",
       "        vertical-align: middle;\n",
       "    }\n",
       "\n",
       "    .dataframe tbody tr th {\n",
       "        vertical-align: top;\n",
       "    }\n",
       "\n",
       "    .dataframe thead th {\n",
       "        text-align: right;\n",
       "    }\n",
       "</style>\n",
       "<table border=\"1\" class=\"dataframe\">\n",
       "  <thead>\n",
       "    <tr style=\"text-align: right;\">\n",
       "      <th></th>\n",
       "      <th>mid</th>\n",
       "      <th>runs</th>\n",
       "      <th>wickets</th>\n",
       "      <th>overs</th>\n",
       "      <th>runs_last_5</th>\n",
       "      <th>wickets_last_5</th>\n",
       "      <th>striker</th>\n",
       "      <th>non-striker</th>\n",
       "      <th>total</th>\n",
       "    </tr>\n",
       "  </thead>\n",
       "  <tbody>\n",
       "    <tr>\n",
       "      <th>count</th>\n",
       "      <td>76014.000000</td>\n",
       "      <td>76014.000000</td>\n",
       "      <td>76014.000000</td>\n",
       "      <td>76014.000000</td>\n",
       "      <td>76014.000000</td>\n",
       "      <td>76014.000000</td>\n",
       "      <td>76014.000000</td>\n",
       "      <td>76014.000000</td>\n",
       "      <td>76014.000000</td>\n",
       "    </tr>\n",
       "    <tr>\n",
       "      <th>mean</th>\n",
       "      <td>308.627740</td>\n",
       "      <td>74.889349</td>\n",
       "      <td>2.415844</td>\n",
       "      <td>9.783068</td>\n",
       "      <td>33.216434</td>\n",
       "      <td>1.120307</td>\n",
       "      <td>24.962283</td>\n",
       "      <td>8.869287</td>\n",
       "      <td>160.901452</td>\n",
       "    </tr>\n",
       "    <tr>\n",
       "      <th>std</th>\n",
       "      <td>178.156878</td>\n",
       "      <td>48.823327</td>\n",
       "      <td>2.015207</td>\n",
       "      <td>5.772587</td>\n",
       "      <td>14.914174</td>\n",
       "      <td>1.053343</td>\n",
       "      <td>20.079752</td>\n",
       "      <td>10.795742</td>\n",
       "      <td>29.246231</td>\n",
       "    </tr>\n",
       "    <tr>\n",
       "      <th>min</th>\n",
       "      <td>1.000000</td>\n",
       "      <td>0.000000</td>\n",
       "      <td>0.000000</td>\n",
       "      <td>0.000000</td>\n",
       "      <td>0.000000</td>\n",
       "      <td>0.000000</td>\n",
       "      <td>0.000000</td>\n",
       "      <td>0.000000</td>\n",
       "      <td>67.000000</td>\n",
       "    </tr>\n",
       "    <tr>\n",
       "      <th>25%</th>\n",
       "      <td>154.000000</td>\n",
       "      <td>34.000000</td>\n",
       "      <td>1.000000</td>\n",
       "      <td>4.600000</td>\n",
       "      <td>24.000000</td>\n",
       "      <td>0.000000</td>\n",
       "      <td>10.000000</td>\n",
       "      <td>1.000000</td>\n",
       "      <td>142.000000</td>\n",
       "    </tr>\n",
       "    <tr>\n",
       "      <th>50%</th>\n",
       "      <td>308.000000</td>\n",
       "      <td>70.000000</td>\n",
       "      <td>2.000000</td>\n",
       "      <td>9.600000</td>\n",
       "      <td>34.000000</td>\n",
       "      <td>1.000000</td>\n",
       "      <td>20.000000</td>\n",
       "      <td>5.000000</td>\n",
       "      <td>162.000000</td>\n",
       "    </tr>\n",
       "    <tr>\n",
       "      <th>75%</th>\n",
       "      <td>463.000000</td>\n",
       "      <td>111.000000</td>\n",
       "      <td>4.000000</td>\n",
       "      <td>14.600000</td>\n",
       "      <td>43.000000</td>\n",
       "      <td>2.000000</td>\n",
       "      <td>35.000000</td>\n",
       "      <td>13.000000</td>\n",
       "      <td>181.000000</td>\n",
       "    </tr>\n",
       "    <tr>\n",
       "      <th>max</th>\n",
       "      <td>617.000000</td>\n",
       "      <td>263.000000</td>\n",
       "      <td>10.000000</td>\n",
       "      <td>19.600000</td>\n",
       "      <td>113.000000</td>\n",
       "      <td>7.000000</td>\n",
       "      <td>175.000000</td>\n",
       "      <td>109.000000</td>\n",
       "      <td>263.000000</td>\n",
       "    </tr>\n",
       "  </tbody>\n",
       "</table>\n",
       "</div>"
      ],
      "text/plain": [
       "                mid          runs       wickets         overs   runs_last_5  \\\n",
       "count  76014.000000  76014.000000  76014.000000  76014.000000  76014.000000   \n",
       "mean     308.627740     74.889349      2.415844      9.783068     33.216434   \n",
       "std      178.156878     48.823327      2.015207      5.772587     14.914174   \n",
       "min        1.000000      0.000000      0.000000      0.000000      0.000000   \n",
       "25%      154.000000     34.000000      1.000000      4.600000     24.000000   \n",
       "50%      308.000000     70.000000      2.000000      9.600000     34.000000   \n",
       "75%      463.000000    111.000000      4.000000     14.600000     43.000000   \n",
       "max      617.000000    263.000000     10.000000     19.600000    113.000000   \n",
       "\n",
       "       wickets_last_5       striker   non-striker         total  \n",
       "count    76014.000000  76014.000000  76014.000000  76014.000000  \n",
       "mean         1.120307     24.962283      8.869287    160.901452  \n",
       "std          1.053343     20.079752     10.795742     29.246231  \n",
       "min          0.000000      0.000000      0.000000     67.000000  \n",
       "25%          0.000000     10.000000      1.000000    142.000000  \n",
       "50%          1.000000     20.000000      5.000000    162.000000  \n",
       "75%          2.000000     35.000000     13.000000    181.000000  \n",
       "max          7.000000    175.000000    109.000000    263.000000  "
      ]
     },
     "execution_count": 8,
     "metadata": {},
     "output_type": "execute_result"
    }
   ],
   "source": [
    "df.describe()"
   ]
  },
  {
   "cell_type": "code",
   "execution_count": 9,
   "id": "3e8d2b7b",
   "metadata": {},
   "outputs": [
    {
     "name": "stdout",
     "output_type": "stream",
     "text": [
      "<class 'pandas.core.frame.DataFrame'>\n",
      "RangeIndex: 76014 entries, 0 to 76013\n",
      "Data columns (total 15 columns):\n",
      " #   Column          Non-Null Count  Dtype  \n",
      "---  ------          --------------  -----  \n",
      " 0   mid             76014 non-null  int64  \n",
      " 1   date            76014 non-null  object \n",
      " 2   venue           76014 non-null  object \n",
      " 3   bat_team        76014 non-null  object \n",
      " 4   bowl_team       76014 non-null  object \n",
      " 5   batsman         76014 non-null  object \n",
      " 6   bowler          76014 non-null  object \n",
      " 7   runs            76014 non-null  int64  \n",
      " 8   wickets         76014 non-null  int64  \n",
      " 9   overs           76014 non-null  float64\n",
      " 10  runs_last_5     76014 non-null  int64  \n",
      " 11  wickets_last_5  76014 non-null  int64  \n",
      " 12  striker         76014 non-null  int64  \n",
      " 13  non-striker     76014 non-null  int64  \n",
      " 14  total           76014 non-null  int64  \n",
      "dtypes: float64(1), int64(8), object(6)\n",
      "memory usage: 8.7+ MB\n"
     ]
    }
   ],
   "source": [
    "df.info()"
   ]
  },
  {
   "cell_type": "code",
   "execution_count": 10,
   "id": "297e3bf1",
   "metadata": {},
   "outputs": [
    {
     "data": {
      "text/plain": [
       "mid               0\n",
       "date              0\n",
       "venue             0\n",
       "bat_team          0\n",
       "bowl_team         0\n",
       "batsman           0\n",
       "bowler            0\n",
       "runs              0\n",
       "wickets           0\n",
       "overs             0\n",
       "runs_last_5       0\n",
       "wickets_last_5    0\n",
       "striker           0\n",
       "non-striker       0\n",
       "total             0\n",
       "dtype: int64"
      ]
     },
     "execution_count": 10,
     "metadata": {},
     "output_type": "execute_result"
    }
   ],
   "source": [
    "df.isnull().sum()"
   ]
  },
  {
   "cell_type": "markdown",
   "id": "6676599d",
   "metadata": {},
   "source": [
    "No null values"
   ]
  },
  {
   "cell_type": "markdown",
   "id": "132ec0c7",
   "metadata": {},
   "source": [
    "Data Cleaning"
   ]
  },
  {
   "cell_type": "markdown",
   "id": "a9a2a2f2",
   "metadata": {},
   "source": [
    "●Removing Unwanted Columns: Columns that are not relevant for predicting the score, such as match ID, venue, batsman, bowler, striker, and non-striker, are removed."
   ]
  },
  {
   "cell_type": "code",
   "execution_count": 11,
   "id": "2363e8f1",
   "metadata": {},
   "outputs": [
    {
     "data": {
      "text/plain": [
       "Index(['mid', 'date', 'venue', 'bat_team', 'bowl_team', 'batsman', 'bowler',\n",
       "       'runs', 'wickets', 'overs', 'runs_last_5', 'wickets_last_5', 'striker',\n",
       "       'non-striker', 'total'],\n",
       "      dtype='object')"
      ]
     },
     "execution_count": 11,
     "metadata": {},
     "output_type": "execute_result"
    }
   ],
   "source": [
    "df.columns"
   ]
  },
  {
   "cell_type": "code",
   "execution_count": 12,
   "id": "4a16c5aa",
   "metadata": {},
   "outputs": [],
   "source": [
    "#removing unwanted columns\n",
    "df.drop(['mid','venue','batsman','bowler', 'striker', 'non-striker'], axis=1, inplace =True)"
   ]
  },
  {
   "cell_type": "code",
   "execution_count": 13,
   "id": "8c99657e",
   "metadata": {},
   "outputs": [
    {
     "data": {
      "text/plain": [
       "Index(['date', 'bat_team', 'bowl_team', 'runs', 'wickets', 'overs',\n",
       "       'runs_last_5', 'wickets_last_5', 'total'],\n",
       "      dtype='object')"
      ]
     },
     "execution_count": 13,
     "metadata": {},
     "output_type": "execute_result"
    }
   ],
   "source": [
    "df.columns"
   ]
  },
  {
   "cell_type": "markdown",
   "id": "be4675e6",
   "metadata": {},
   "source": [
    "●Filtering Consistent Teams: Only matches involving consistent teams (e.g., Chennai Super Kings, Mumbai Indians, etc.) are retained."
   ]
  },
  {
   "cell_type": "code",
   "execution_count": 14,
   "id": "aae88d33",
   "metadata": {},
   "outputs": [],
   "source": [
    "#Filtering Consistent Teams\n",
    "consistent_teams =[\n",
    "    'Kolkata Knight Riders',\n",
    "    'Chennai Super Kings',\n",
    "    'Rajasthan Royals',\n",
    "    'Mumbai Indians',\n",
    "    'Deccan Chargers',\n",
    "    'Kings XI Punjab',\n",
    "    'Royal Challengers Bangalore',\n",
    "    'Delhi Daredevils',\n",
    "    'Kochi Tuskers Kerala',\n",
    "    'Pune Warriors',\n",
    "    'Sunrisers Hyderabad',\n",
    "    'Rising Pune Supergiants',\n",
    "    'Gujarat Lions',\n",
    "    'Rising Pune Supergiant'\n",
    "]"
   ]
  },
  {
   "cell_type": "code",
   "execution_count": 18,
   "id": "a5af5b7d",
   "metadata": {},
   "outputs": [
    {
     "name": "stdout",
     "output_type": "stream",
     "text": [
      "Before filtering, the shape of dataset is:  (76014, 9)\n"
     ]
    }
   ],
   "source": [
    "print('Before filtering, the shape of dataset is: ',df.shape)"
   ]
  },
  {
   "cell_type": "code",
   "execution_count": 19,
   "id": "eaa6f5df",
   "metadata": {},
   "outputs": [],
   "source": [
    "df=df[df['bat_team'].isin(consistent_teams) & df['bowl_team'].isin(consistent_teams)]"
   ]
  },
  {
   "cell_type": "code",
   "execution_count": 20,
   "id": "a566af39",
   "metadata": {},
   "outputs": [
    {
     "name": "stdout",
     "output_type": "stream",
     "text": [
      "After filtereing the shape of dataset is:  (76014, 9)\n"
     ]
    }
   ],
   "source": [
    "print('After filtereing the shape of dataset is: ', df.shape)"
   ]
  },
  {
   "cell_type": "markdown",
   "id": "b1ffd7b9",
   "metadata": {},
   "source": [
    "●Removing Early Match Data: Data from the first 5 overs of each match is removed to focus on more relevant match situations."
   ]
  },
  {
   "cell_type": "code",
   "execution_count": 21,
   "id": "737ceb77",
   "metadata": {},
   "outputs": [
    {
     "data": {
      "text/plain": [
       "0         0.1\n",
       "1         0.2\n",
       "2         0.2\n",
       "3         0.3\n",
       "4         0.4\n",
       "         ... \n",
       "76009    19.2\n",
       "76010    19.3\n",
       "76011    19.4\n",
       "76012    19.5\n",
       "76013    19.6\n",
       "Name: overs, Length: 76014, dtype: float64"
      ]
     },
     "execution_count": 21,
     "metadata": {},
     "output_type": "execute_result"
    }
   ],
   "source": [
    "df['overs']"
   ]
  },
  {
   "cell_type": "code",
   "execution_count": 22,
   "id": "80cdfbe9",
   "metadata": {},
   "outputs": [
    {
     "name": "stdout",
     "output_type": "stream",
     "text": [
      "before filtering overs, the shape of dataset is:  (76014, 9)\n"
     ]
    }
   ],
   "source": [
    "print(\"before filtering overs, the shape of dataset is: \", df.shape)"
   ]
  },
  {
   "cell_type": "code",
   "execution_count": 23,
   "id": "558ad80e",
   "metadata": {},
   "outputs": [],
   "source": [
    "df = df[df['overs']>=5.0]"
   ]
  },
  {
   "cell_type": "code",
   "execution_count": 24,
   "id": "283e14ec",
   "metadata": {},
   "outputs": [
    {
     "name": "stdout",
     "output_type": "stream",
     "text": [
      "after filtering overs, the shape of dataset is:  (56707, 9)\n"
     ]
    }
   ],
   "source": [
    "print(\"after filtering overs, the shape of dataset is: \", df.shape)"
   ]
  },
  {
   "cell_type": "markdown",
   "id": "48007886",
   "metadata": {},
   "source": [
    "●Date Conversion: The 'date' column is converted from string format to a datetime object for easier analysis."
   ]
  },
  {
   "cell_type": "code",
   "execution_count": 25,
   "id": "8ecbc4dd",
   "metadata": {},
   "outputs": [
    {
     "data": {
      "text/plain": [
       "date               object\n",
       "bat_team           object\n",
       "bowl_team          object\n",
       "runs                int64\n",
       "wickets             int64\n",
       "overs             float64\n",
       "runs_last_5         int64\n",
       "wickets_last_5      int64\n",
       "total               int64\n",
       "dtype: object"
      ]
     },
     "execution_count": 25,
     "metadata": {},
     "output_type": "execute_result"
    }
   ],
   "source": [
    "df.dtypes"
   ]
  },
  {
   "cell_type": "code",
   "execution_count": 26,
   "id": "9e6639d6",
   "metadata": {},
   "outputs": [],
   "source": [
    "df['date'] = pd.to_datetime(df['date'])"
   ]
  },
  {
   "cell_type": "code",
   "execution_count": 27,
   "id": "0af57b2d",
   "metadata": {},
   "outputs": [
    {
     "data": {
      "text/plain": [
       "date              datetime64[ns]\n",
       "bat_team                  object\n",
       "bowl_team                 object\n",
       "runs                       int64\n",
       "wickets                    int64\n",
       "overs                    float64\n",
       "runs_last_5                int64\n",
       "wickets_last_5             int64\n",
       "total                      int64\n",
       "dtype: object"
      ]
     },
     "execution_count": 27,
     "metadata": {},
     "output_type": "execute_result"
    }
   ],
   "source": [
    "df.dtypes"
   ]
  },
  {
   "cell_type": "markdown",
   "id": "3c8308e3",
   "metadata": {},
   "source": [
    "Feature Selection"
   ]
  },
  {
   "cell_type": "markdown",
   "id": "11ef17ce",
   "metadata": {},
   "source": [
    "●Correlation Heatmap: A heatmap is used to visualize the correlation between the features, ensuring the most relevant features are selected for the model."
   ]
  },
  {
   "cell_type": "markdown",
   "id": "2b04b680",
   "metadata": {},
   "source": [
    "to calculate correlation matrix we need to separate the object and numeric columna"
   ]
  },
  {
   "cell_type": "code",
   "execution_count": 28,
   "id": "5bd12933",
   "metadata": {},
   "outputs": [],
   "source": [
    "num_df = df.select_dtypes(include=['int64','float64'])"
   ]
  },
  {
   "cell_type": "code",
   "execution_count": 29,
   "id": "43b7d006",
   "metadata": {},
   "outputs": [
    {
     "data": {
      "text/plain": [
       "Index(['runs', 'wickets', 'overs', 'runs_last_5', 'wickets_last_5', 'total'], dtype='object')"
      ]
     },
     "execution_count": 29,
     "metadata": {},
     "output_type": "execute_result"
    }
   ],
   "source": [
    "num_df.columns"
   ]
  },
  {
   "cell_type": "code",
   "execution_count": 30,
   "id": "aeae94e5",
   "metadata": {},
   "outputs": [],
   "source": [
    "corr_matrix = num_df.corr()"
   ]
  },
  {
   "cell_type": "code",
   "execution_count": 31,
   "id": "ac3338af",
   "metadata": {},
   "outputs": [
    {
     "data": {
      "image/png": "[encoded data removed]",
      "text/plain": [
       "<Figure size 1000x800 with 2 Axes>"
      ]
     },
     "metadata": {},
     "output_type": "display_data"
    }
   ],
   "source": [
    "plt.figure(figsize=(10,8))\n",
    "sns.heatmap(corr_matrix, annot=True, cmap='coolwarm')\n",
    "plt.title('Correlation Matrix')\n",
    "plt.show()"
   ]
  },
  {
   "cell_type": "markdown",
   "id": "654e71d9",
   "metadata": {},
   "source": [
    "3.3 Encoding Categorical Features"
   ]
  },
  {
   "cell_type": "markdown",
   "id": "cbd05f52",
   "metadata": {},
   "source": [
    "●One-Hot Encoding: The categorical variables, bat_team and bowl_team, are encoded into numerical features using one-hot encoding. This creates binary columns for each team, representing whether a team is batting or bowling.\n"
   ]
  },
  {
   "cell_type": "code",
   "execution_count": 44,
   "id": "f1e8ab39",
   "metadata": {},
   "outputs": [],
   "source": [
    "df_encoded = pd.get_dummies(df, columns = ['bat_team', 'bowl_team'], drop_first=True)"
   ]
  },
  {
   "cell_type": "markdown",
   "id": "8ed47a7e",
   "metadata": {},
   "source": [
    "Splitting Data into Training and Testing Sets"
   ]
  },
  {
   "cell_type": "markdown",
   "id": "afb5a07a",
   "metadata": {},
   "source": [
    "●The data is split into a training set (seasons 1-9, i.e., 2008-2016) and a test set (season 10, i.e., 2017). This ensures that the model is trained on historical data and tested on more recent data."
   ]
  },
  {
   "cell_type": "code",
   "execution_count": 46,
   "id": "2beb24e5",
   "metadata": {},
   "outputs": [
    {
     "data": {
      "text/plain": [
       "date                                     datetime64[ns]\n",
       "runs                                              int64\n",
       "wickets                                           int64\n",
       "overs                                           float64\n",
       "runs_last_5                                       int64\n",
       "wickets_last_5                                    int64\n",
       "total                                             int64\n",
       "bat_team_Deccan Chargers                           bool\n",
       "bat_team_Delhi Daredevils                          bool\n",
       "bat_team_Gujarat Lions                             bool\n",
       "bat_team_Kings XI Punjab                           bool\n",
       "bat_team_Kochi Tuskers Kerala                      bool\n",
       "bat_team_Kolkata Knight Riders                     bool\n",
       "bat_team_Mumbai Indians                            bool\n",
       "bat_team_Pune Warriors                             bool\n",
       "bat_team_Rajasthan Royals                          bool\n",
       "bat_team_Rising Pune Supergiant                    bool\n",
       "bat_team_Rising Pune Supergiants                   bool\n",
       "bat_team_Royal Challengers Bangalore               bool\n",
       "bat_team_Sunrisers Hyderabad                       bool\n",
       "bowl_team_Deccan Chargers                          bool\n",
       "bowl_team_Delhi Daredevils                         bool\n",
       "bowl_team_Gujarat Lions                            bool\n",
       "bowl_team_Kings XI Punjab                          bool\n",
       "bowl_team_Kochi Tuskers Kerala                     bool\n",
       "bowl_team_Kolkata Knight Riders                    bool\n",
       "bowl_team_Mumbai Indians                           bool\n",
       "bowl_team_Pune Warriors                            bool\n",
       "bowl_team_Rajasthan Royals                         bool\n",
       "bowl_team_Rising Pune Supergiant                   bool\n",
       "bowl_team_Rising Pune Supergiants                  bool\n",
       "bowl_team_Royal Challengers Bangalore              bool\n",
       "bowl_team_Sunrisers Hyderabad                      bool\n",
       "dtype: object"
      ]
     },
     "execution_count": 46,
     "metadata": {},
     "output_type": "execute_result"
    }
   ],
   "source": [
    "df_encoded.dtypes"
   ]
  },
  {
   "cell_type": "code",
   "execution_count": 47,
   "id": "291e0d85",
   "metadata": {},
   "outputs": [],
   "source": [
    "train_df = df_encoded[df_encoded['date'].dt.year <= 2016]"
   ]
  },
  {
   "cell_type": "code",
   "execution_count": 48,
   "id": "1953ed24",
   "metadata": {},
   "outputs": [],
   "source": [
    "test_df = df_encoded[df_encoded['date'].dt.year == 2017]"
   ]
  },
  {
   "cell_type": "code",
   "execution_count": 49,
   "id": "b09ad423",
   "metadata": {},
   "outputs": [
    {
     "name": "stderr",
     "output_type": "stream",
     "text": [
      "/var/folders/yd/5brnphbd5q9d94mxbq_7w0c40000gn/T/ipykernel_5458/877626796.py:2: SettingWithCopyWarning: \n",
      "A value is trying to be set on a copy of a slice from a DataFrame\n",
      "\n",
      "See the caveats in the documentation: https://pandas.pydata.org/pandas-docs/stable/user_guide/indexing.html#returning-a-view-versus-a-copy\n",
      "  train_df.drop(['date'], axis=1, inplace=True)\n",
      "/var/folders/yd/5brnphbd5q9d94mxbq_7w0c40000gn/T/ipykernel_5458/877626796.py:3: SettingWithCopyWarning: \n",
      "A value is trying to be set on a copy of a slice from a DataFrame\n",
      "\n",
      "See the caveats in the documentation: https://pandas.pydata.org/pandas-docs/stable/user_guide/indexing.html#returning-a-view-versus-a-copy\n",
      "  test_df.drop(['date'], axis=1, inplace=True)\n"
     ]
    },
    {
     "data": {
      "text/plain": [
       "Index(['runs', 'wickets', 'overs', 'runs_last_5', 'wickets_last_5', 'total',\n",
       "       'bat_team_Deccan Chargers', 'bat_team_Delhi Daredevils',\n",
       "       'bat_team_Gujarat Lions', 'bat_team_Kings XI Punjab',\n",
       "       'bat_team_Kochi Tuskers Kerala', 'bat_team_Kolkata Knight Riders',\n",
       "       'bat_team_Mumbai Indians', 'bat_team_Pune Warriors',\n",
       "       'bat_team_Rajasthan Royals', 'bat_team_Rising Pune Supergiant',\n",
       "       'bat_team_Rising Pune Supergiants',\n",
       "       'bat_team_Royal Challengers Bangalore', 'bat_team_Sunrisers Hyderabad',\n",
       "       'bowl_team_Deccan Chargers', 'bowl_team_Delhi Daredevils',\n",
       "       'bowl_team_Gujarat Lions', 'bowl_team_Kings XI Punjab',\n",
       "       'bowl_team_Kochi Tuskers Kerala', 'bowl_team_Kolkata Knight Riders',\n",
       "       'bowl_team_Mumbai Indians', 'bowl_team_Pune Warriors',\n",
       "       'bowl_team_Rajasthan Royals', 'bowl_team_Rising Pune Supergiant',\n",
       "       'bowl_team_Rising Pune Supergiants',\n",
       "       'bowl_team_Royal Challengers Bangalore',\n",
       "       'bowl_team_Sunrisers Hyderabad'],\n",
       "      dtype='object')"
      ]
     },
     "execution_count": 49,
     "metadata": {},
     "output_type": "execute_result"
    }
   ],
   "source": [
    "#droppping the date column\n",
    "train_df.drop(['date'], axis=1, inplace=True)\n",
    "test_df.drop(['date'], axis=1, inplace=True)\n",
    "\n",
    "train_df.columns\n",
    "\n",
    "test_df.columns"
   ]
  },
  {
   "cell_type": "code",
   "execution_count": 50,
   "id": "d6769a90",
   "metadata": {},
   "outputs": [],
   "source": [
    "X_train = train_df.drop('total', axis=1)\n",
    "y_train = train_df['total']\n",
    "\n",
    "X_test = test_df.drop('total', axis=1)\n",
    "y_test = test_df['total']"
   ]
  },
  {
   "cell_type": "code",
   "execution_count": 51,
   "id": "213ebd2d",
   "metadata": {},
   "outputs": [
    {
     "data": {
      "text/plain": [
       "(51366, 31)"
      ]
     },
     "execution_count": 51,
     "metadata": {},
     "output_type": "execute_result"
    }
   ],
   "source": [
    "X_train.shape"
   ]
  },
  {
   "cell_type": "code",
   "execution_count": 66,
   "id": "db2dbe1d",
   "metadata": {},
   "outputs": [
    {
     "data": {
      "text/plain": [
       "Index(['runs', 'wickets', 'overs', 'runs_last_5', 'wickets_last_5',\n",
       "       'bat_team_Deccan Chargers', 'bat_team_Delhi Daredevils',\n",
       "       'bat_team_Gujarat Lions', 'bat_team_Kings XI Punjab',\n",
       "       'bat_team_Kochi Tuskers Kerala', 'bat_team_Kolkata Knight Riders',\n",
       "       'bat_team_Mumbai Indians', 'bat_team_Pune Warriors',\n",
       "       'bat_team_Rajasthan Royals', 'bat_team_Rising Pune Supergiant',\n",
       "       'bat_team_Rising Pune Supergiants',\n",
       "       'bat_team_Royal Challengers Bangalore', 'bat_team_Sunrisers Hyderabad',\n",
       "       'bowl_team_Deccan Chargers', 'bowl_team_Delhi Daredevils',\n",
       "       'bowl_team_Gujarat Lions', 'bowl_team_Kings XI Punjab',\n",
       "       'bowl_team_Kochi Tuskers Kerala', 'bowl_team_Kolkata Knight Riders',\n",
       "       'bowl_team_Mumbai Indians', 'bowl_team_Pune Warriors',\n",
       "       'bowl_team_Rajasthan Royals', 'bowl_team_Rising Pune Supergiant',\n",
       "       'bowl_team_Rising Pune Supergiants',\n",
       "       'bowl_team_Royal Challengers Bangalore',\n",
       "       'bowl_team_Sunrisers Hyderabad'],\n",
       "      dtype='object')"
      ]
     },
     "execution_count": 66,
     "metadata": {},
     "output_type": "execute_result"
    }
   ],
   "source": [
    "X_train.columns"
   ]
  },
  {
   "cell_type": "code",
   "execution_count": 52,
   "id": "a662906e",
   "metadata": {},
   "outputs": [
    {
     "data": {
      "text/plain": [
       "(51366,)"
      ]
     },
     "execution_count": 52,
     "metadata": {},
     "output_type": "execute_result"
    }
   ],
   "source": [
    "y_train.shape"
   ]
  },
  {
   "cell_type": "code",
   "execution_count": 40,
   "id": "80ce43c9",
   "metadata": {},
   "outputs": [
    {
     "data": {
      "text/plain": [
       "(5341, 7)"
      ]
     },
     "execution_count": 40,
     "metadata": {},
     "output_type": "execute_result"
    }
   ],
   "source": [
    "X_test.shape"
   ]
  },
  {
   "cell_type": "code",
   "execution_count": 53,
   "id": "d643bf8d",
   "metadata": {},
   "outputs": [
    {
     "data": {
      "text/plain": [
       "(5341,)"
      ]
     },
     "execution_count": 53,
     "metadata": {},
     "output_type": "execute_result"
    }
   ],
   "source": [
    "\n",
    "y_test.shape"
   ]
  },
  {
   "cell_type": "markdown",
   "id": "619b1073",
   "metadata": {},
   "source": [
    "4. Model Building\n",
    "4.1 Models Used\n",
    "The following regression models are used to predict the IPL match scores:\n",
    "●Linear Regression\n",
    "●Decision Tree Regression\n",
    "●Random Forest Regression\n",
    "●AdaBoost Regressor (with Linear Regression as the base learner)"
   ]
  },
  {
   "cell_type": "code",
   "execution_count": 54,
   "id": "3cce083d",
   "metadata": {},
   "outputs": [],
   "source": [
    "from sklearn.linear_model import LinearRegression\n",
    "from sklearn.tree import DecisionTreeRegressor\n",
    "from sklearn.ensemble import RandomForestRegressor, AdaBoostRegressor\n",
    "from sklearn.metrics import mean_absolute_error, mean_squared_error, r2_score"
   ]
  },
  {
   "cell_type": "code",
   "execution_count": null,
   "id": "3f5b4b17",
   "metadata": {},
   "outputs": [
    {
     "name": "stdout",
     "output_type": "stream",
     "text": [
      "Linear Redression - MAE: 12.378748751981808, MSE: 264.740750449804, R2: 0.6935959052596524\n"
     ]
    }
   ],
   "source": [
    "#Train the models Linear Regression\n",
    "#Linear Regression\n",
    "lr = LinearRegression()\n",
    "lr.fit(X_train, y_train)\n",
    "#Predicting on test set\n",
    "y_pred_lr = lr.predict(X_test)\n",
    "\n",
    "#calculating metrics\n",
    "mae_lr = mean_absolute_error(y_test, y_pred_lr)\n",
    "mse_lr = mean_squared_error(y_test, y_pred_lr)\n",
    "r2_lr = r2_score(y_test, y_pred_lr)\n",
    "\n",
    "print(f'Linear Redression - MAE: {mae_lr}, MSE: {mse_lr}, R2: {r2_lr}')"
   ]
  },
  {
   "cell_type": "code",
   "execution_count": null,
   "id": "6be2a789",
   "metadata": {},
   "outputs": [
    {
     "name": "stdout",
     "output_type": "stream",
     "text": [
      "Decision Tree - MAE: 0.0, MSE: 0.0, R2: 1.0\n"
     ]
    }
   ],
   "source": [
    "#Decision Tree Regressor\n",
    "dt = DecisionTreeRegressor(random_state=42)\n",
    "dt.fit(X_test,y_test)\n",
    "dt_pred = dt.predict(X_test)\n",
    "\n",
    "#calculating metrics\n",
    "mae_dt = mean_absolute_error(y_test, dt_pred)\n",
    "mse_dt = mean_squared_error(y_test, dt_pred)\n",
    "r2_dt = r2_score(y_test, dt_pred)\n",
    "\n",
    "print(f'Decision Tree - MAE: {mae_dt}, MSE: {mse_dt}, R2: {r2_dt}')"
   ]
  },
  {
   "cell_type": "markdown",
   "id": "6163d92f",
   "metadata": {},
   "source": [
    "DT is Overfitting the data"
   ]
  },
  {
   "cell_type": "code",
   "execution_count": 58,
   "id": "fe0b9c4e",
   "metadata": {},
   "outputs": [
    {
     "name": "stdout",
     "output_type": "stream",
     "text": [
      "Random Forest - MAE: 13.654412001497848, MSE: 318.24430490083523, R2: 0.6316722756744615\n"
     ]
    }
   ],
   "source": [
    "#Random Forest Regressor\n",
    "rf = RandomForestRegressor(n_estimators=100, random_state=42)\n",
    "rf.fit(X_train, y_train)\n",
    "rf_pred = rf.predict(X_test)\n",
    "\n",
    "#calculating metrics\n",
    "mae_rf = mean_absolute_error(y_test, rf_pred)\n",
    "mse_rf = mean_squared_error(y_test, rf_pred)\n",
    "r2_rf = r2_score(y_test, rf_pred)\n",
    "\n",
    "print(f'Random Forest - MAE: {mae_rf}, MSE: {mse_rf}, R2: {r2_rf}')"
   ]
  },
  {
   "cell_type": "markdown",
   "id": "15837655",
   "metadata": {},
   "source": [
    "Linear Regression is chosen as the final model due to its better performance compared to other models."
   ]
  },
  {
   "cell_type": "code",
   "execution_count": 60,
   "id": "69d066aa",
   "metadata": {},
   "outputs": [
    {
     "name": "stdout",
     "output_type": "stream",
     "text": [
      "AdaBoost - MAE: 13.826467574750845, MSE: 313.2517106581408, R2: 0.637450575073929\n"
     ]
    }
   ],
   "source": [
    "#AdaBoost Regressor\n",
    "ada = AdaBoostRegressor(estimator=LinearRegression(), n_estimators=50, random_state=42)\n",
    "ada.fit(X_train, y_train)\n",
    "ada_pred = ada.predict(X_test)  \n",
    "\n",
    "#calculating metrics\n",
    "mae_ada = mean_absolute_error(y_test, ada_pred)\n",
    "mse_ada = mean_squared_error(y_test, ada_pred)\n",
    "r2_ada = r2_score(y_test, ada_pred)\n",
    "\n",
    "print(f'AdaBoost - MAE: {mae_ada}, MSE: {mse_ada}, R2: {r2_ada}')"
   ]
  },
  {
   "cell_type": "markdown",
   "id": "020be6b8",
   "metadata": {},
   "source": [
    "AdaBoost algorithm is applied to the Linear Regression model to improve its performance. However, it did not significantly reduce the error compared to the base Linear Regression model."
   ]
  },
  {
   "cell_type": "code",
   "execution_count": 61,
   "id": "75519282",
   "metadata": {},
   "outputs": [],
   "source": [
    "import joblib"
   ]
  },
  {
   "cell_type": "code",
   "execution_count": 62,
   "id": "c65a77c8",
   "metadata": {},
   "outputs": [
    {
     "data": {
      "text/plain": [
       "['ipl_score_predictor_lr_model.pkl']"
      ]
     },
     "execution_count": 62,
     "metadata": {},
     "output_type": "execute_result"
    }
   ],
   "source": [
    "# Assuming your model variable is named 'lr_model'\n",
    "joblib.dump(lr, 'ipl_score_predictor_lr_model.pkl')"
   ]
  },
  {
   "cell_type": "code",
   "execution_count": 63,
   "id": "85ffe80f",
   "metadata": {},
   "outputs": [],
   "source": [
    "import joblib\n",
    "\n",
    "# Load the saved model\n",
    "loaded_model = joblib.load('ipl_score_predictor_lr_model.pkl')"
   ]
  },
  {
   "cell_type": "markdown",
   "id": "40eb9729",
   "metadata": {},
   "source": [
    "Predicting IPL Scores\n"
   ]
  },
  {
   "cell_type": "code",
   "execution_count": null,
   "id": "8aeab412",
   "metadata": {},
   "outputs": [],
   "source": [
    "# All columns expected in X_train (including dummies)\n",
    "columns = [\n",
    "    'runs', 'wickets', 'overs', 'runs_last_5', 'wickets_last_5',\n",
    "    'bat_team_Deccan Chargers', 'bat_team_Delhi Daredevils',\n",
    "    'bat_team_Gujarat Lions', 'bat_team_Kings XI Punjab',\n",
    "    'bat_team_Kochi Tuskers Kerala', 'bat_team_Kolkata Knight Riders',\n",
    "    'bat_team_Mumbai Indians', 'bat_team_Pune Warriors',\n",
    "    'bat_team_Rajasthan Royals', 'bat_team_Rising Pune Supergiant',\n",
    "    'bat_team_Rising Pune Supergiants', 'bat_team_Royal Challengers Bangalore',\n",
    "    'bat_team_Sunrisers Hyderabad', 'bowl_team_Deccan Chargers',\n",
    "    'bowl_team_Delhi Daredevils', 'bowl_team_Gujarat Lions',\n",
    "    'bowl_team_Kings XI Punjab', 'bowl_team_Kochi Tuskers Kerala',\n",
    "    'bowl_team_Kolkata Knight Riders', 'bowl_team_Mumbai Indians',\n",
    "    'bowl_team_Pune Warriors', 'bowl_team_Rajasthan Royals',\n",
    "    'bowl_team_Rising Pune Supergiant', 'bowl_team_Rising Pune Supergiants',\n",
    "    'bowl_team_Royal Challengers Bangalore', 'bowl_team_Sunrisers Hyderabad'\n",
    "]\n",
    "\n",
    "def predict_score(model, bat_team, bowl_team, overs, runs, wickets, runs_last_5, wickets_last_5):\n",
    "    # Creating a dictionary to take all the inputs with preset value as 0\n",
    "    input_dict = dict.fromkeys(columns, 0)\n",
    "    \n",
    "    # Fill in match-specific numeric values\n",
    "    input_dict['runs'] = runs\n",
    "    input_dict['wickets'] = wickets\n",
    "    input_dict['overs'] = overs\n",
    "    input_dict['runs_last_5'] = runs_last_5\n",
    "    input_dict['wickets_last_5'] = wickets_last_5\n",
    "    \n",
    "    # Set one-hot encoded team values to 1\n",
    "    bat_col = f'bat_team_{bat_team}'\n",
    "    bowl_col = f'bowl_team_{bowl_team}'\n",
    "    \n",
    "    if bat_col in input_dict:\n",
    "        input_dict[bat_col] = 1\n",
    "    if bowl_col in input_dict:\n",
    "        input_dict[bowl_col] = 1\n",
    "    \n",
    "    # Convert to DataFrame\n",
    "    input_df = pd.DataFrame([input_dict])\n",
    "    \n",
    "    # Predict\n",
    "    prediction = model.predict(input_df)[0]\n",
    "    return round(prediction)"
   ]
  },
  {
   "cell_type": "code",
   "execution_count": 69,
   "id": "2d334eb3",
   "metadata": {},
   "outputs": [
    {
     "name": "stdout",
     "output_type": "stream",
     "text": [
      "Predicted Total Score: 179\n"
     ]
    }
   ],
   "source": [
    "predicted_score = predict_score(\n",
    "    model=loaded_model,\n",
    "    bat_team='Kolkata Knight Riders',\n",
    "    bowl_team='Delhi Daredevils',\n",
    "    overs=20.0,\n",
    "    runs=200,\n",
    "    wickets=9,\n",
    "    runs_last_5=77,\n",
    "    wickets_last_5=5\n",
    ")\n",
    "\n",
    "print(f\"Predicted Total Score: {predicted_score}\")"
   ]
  },
  {
   "cell_type": "code",
   "execution_count": 70,
   "id": "6e61fe60",
   "metadata": {},
   "outputs": [
    {
     "name": "stdout",
     "output_type": "stream",
     "text": [
      "Predicted Total Score: 144\n"
     ]
    }
   ],
   "source": [
    "predicted_score = predict_score(\n",
    "    model=loaded_model,\n",
    "    bat_team='Sunrisers Hyderabad',\n",
    "    bowl_team='Royal Challengers Bangalore',\n",
    "    overs=15.0,\n",
    "    runs=101,\n",
    "    wickets=3,\n",
    "    runs_last_5=45,\n",
    "    wickets_last_5=7\n",
    ")\n",
    "print(f\"Predicted Total Score: {predicted_score}\")"
   ]
  },
  {
   "cell_type": "code",
   "execution_count": 71,
   "id": "1f65a023",
   "metadata": {},
   "outputs": [
    {
     "name": "stdout",
     "output_type": "stream",
     "text": [
      "Predicted Total Score: 176\n"
     ]
    }
   ],
   "source": [
    "predicted_score = predict_score(\n",
    "    model=loaded_model,\n",
    "    bat_team='Mumbai Indians',\n",
    "    bowl_team='Kings XI Punjab',\n",
    "    overs=15.0,\n",
    "    runs=135,\n",
    "    wickets=5,\n",
    "    runs_last_5=50,\n",
    "    wickets_last_5=3\n",
    ")\n",
    "print(f\"Predicted Total Score: {predicted_score}\")"
   ]
  },
  {
   "cell_type": "code",
   "execution_count": 72,
   "id": "a377f50b",
   "metadata": {},
   "outputs": [
    {
     "name": "stdout",
     "output_type": "stream",
     "text": [
      "Predicted Total Score: 145\n"
     ]
    }
   ],
   "source": [
    "predicted_score = predict_score(\n",
    "    model=loaded_model,\n",
    "    bat_team='Rajasthan Royals',\n",
    "    bowl_team='Chennai Super Kings',\n",
    "    overs=20.0,\n",
    "    runs=151,\n",
    "    wickets=7,\n",
    "    runs_last_5=38,\n",
    "    wickets_last_5=1\n",
    ")\n",
    "print(f\"Predicted Total Score: {predicted_score}\")"
   ]
  }
 ],
 "metadata": {
  "kernelspec": {
   "display_name": "myenv",
   "language": "python",
   "name": "python3"
  },
  "language_info": {
   "codemirror_mode": {
    "name": "ipython",
    "version": 3
   },
   "file_extension": ".py",
   "mimetype": "text/x-python",
   "name": "python",
   "nbconvert_exporter": "python",
   "pygments_lexer": "ipython3",
   "version": "3.13.3"
  }
 },
 "nbformat": 4,
 "nbformat_minor": 5
}
